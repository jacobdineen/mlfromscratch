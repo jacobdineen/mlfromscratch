{
 "cells": [
  {
   "cell_type": "markdown",
   "metadata": {
    "colab_type": "text",
    "id": "O2ieg_PxXZpJ"
   },
   "source": [
    "Upload the fashion_train.csv file to your google drive and specify the correct path in the main method. When prompted, provide the authorization key."
   ]
  },
  {
   "cell_type": "code",
   "execution_count": null,
   "metadata": {
    "ExecuteTime": {
     "end_time": "2019-11-05T01:02:48.167096Z",
     "start_time": "2019-11-05T01:02:39.434Z"
    },
    "colab": {
     "base_uri": "https://localhost:8080/",
     "height": 33
    },
    "colab_type": "code",
    "id": "4RtrTSDeW2y3",
    "outputId": "aed24576-e624-4094-842b-f0b05b1b3ecf"
   },
   "outputs": [],
   "source": [
    "# Machine Learning Homework 4 - Image Classification\n",
    "\n",
    "__author__ = '**'\n",
    "\n",
    "# General imports\n",
    "import numpy as np\n",
    "import matplotlib.pyplot as plt\n",
    "from sklearn.utils import shuffle\n",
    "import os\n",
    "import sys\n",
    "import pandas as pd\n",
    "from collections import Counter\n",
    "# Keras\n",
    "import sklearn\n",
    "from sklearn.ensemble import RandomForestClassifier, GradientBoostingClassifier\n",
    "from sklearn.linear_model import LogisticRegression\n",
    "from sklearn.model_selection import GridSearchCV, cross_val_score, StratifiedKFold, learning_curve\n",
    "from sklearn.model_selection import train_test_split\n",
    "from sklearn.preprocessing import MinMaxScaler\n",
    "\n",
    "from livelossplot import PlotLossesKeras\n",
    "from tensorflow.python.client import device_lib\n",
    "from keras.losses import binary_crossentropy\n",
    "import seaborn as sns\n",
    "import os\n",
    "import sys\n",
    "import glob\n",
    "import pickle\n",
    "\n",
    "import tensorflow as tf\n",
    "import keras\n",
    "from keras.models import Model\n",
    "from keras.layers import Flatten, Dense, Input\n",
    "from keras.utils import layer_utils\n",
    "from keras import backend as K\n",
    "from keras.engine.topology import get_source_inputs\n",
    "from keras.models import load_model\n",
    "from keras.models import model_from_json\n",
    "from keras.models import Sequential\n",
    "from keras.layers import Dense, Activation, Dropout, Flatten\n",
    "from keras.optimizers import SGD, adam, adamax, Adam, RMSprop\n",
    "from keras.layers.normalization import BatchNormalization\n",
    "from keras.layers.advanced_activations import LeakyReLU, ReLU, ELU\n",
    "from keras.losses import binary_crossentropy\n",
    "from keras.utils import np_utils\n",
    "from keras.layers import Conv2D, MaxPooling2D, ZeroPadding2D, GlobalAveragePooling2D\n",
    "from keras.layers.advanced_activations import LeakyReLU \n",
    "from keras.preprocessing.image import ImageDataGenerator\n",
    "from keras.utils.np_utils import to_categorical # convert to one-hot-encoding\n",
    "from keras.models import Sequential\n",
    "from keras.layers import Dense, Dropout, Flatten, Conv2D, MaxPool2D\n",
    "from keras.applications.vgg19 import preprocess_input\n",
    "# Google Colab stuff\n",
    "#from google.colab import drive\n",
    "#drive.mount('/content/drive')"
   ]
  },
  {
   "cell_type": "markdown",
   "metadata": {
    "colab_type": "text",
    "id": "x_gSZT4Sa_aR"
   },
   "source": [
    "The below methods have been provided for you."
   ]
  },
  {
   "cell_type": "code",
   "execution_count": 3,
   "metadata": {
    "ExecuteTime": {
     "end_time": "2019-11-05T01:03:00.563227Z",
     "start_time": "2019-11-05T01:03:00.556221Z"
    },
    "colab": {},
    "colab_type": "code",
    "id": "fkfUkDaMXeaG"
   },
   "outputs": [],
   "source": [
    "### Already implemented\n",
    "def get_data(datafile, shuff = True):\n",
    "    dataframe = pd.read_csv(datafile)\n",
    "    if shuff:\n",
    "        dataframe = shuffle(dataframe)\n",
    "    data = list(dataframe.values)\n",
    "    labels, images = [], []\n",
    "    for line in data:\n",
    "        labels.append(line[0])\n",
    "        images.append(line[1:])\n",
    "    labels = np.array(labels)\n",
    "    images = np.array(images).astype('float32')\n",
    "    images /= 255\n",
    "    return images, labels\n",
    "\n",
    "\n",
    "### Already implemented\n",
    "def visualize_weights(trained_model, num_to_display=20, save=True, hot=True):\n",
    "    layer1 = trained_model.layers[0]\n",
    "    weights = layer1.get_weights()[0]\n",
    "\n",
    "    # Feel free to change the color scheme\n",
    "    colors = 'hot' if hot else 'binary'\n",
    "\n",
    "    for i in range(num_to_display):\n",
    "        wi = weights[:, i].reshape(28, 28)\n",
    "        plt.imshow(wi, cmap=colors, interpolation='nearest')\n",
    "        plt.show()\n",
    "\n",
    "\n",
    "### Already implemented\n",
    "def output_predictions(predictions):\n",
    "    with open('predictions.txt', 'w+') as f:\n",
    "        for pred in predictions:\n",
    "            f.write(str(pred) + '\\n')"
   ]
  },
  {
   "cell_type": "markdown",
   "metadata": {
    "colab_type": "text",
    "id": "shqpBTr8ciBJ"
   },
   "source": [
    "Implement the following method to generate plots of the train and validation accuracy and loss vs epochs. \n",
    "You should call this method for your best-performing MLP model and best-performing CNN model \n",
    "(4 plots total--2 accuracy plots, 2 loss plots)."
   ]
  },
  {
   "cell_type": "code",
   "execution_count": 5,
   "metadata": {
    "ExecuteTime": {
     "end_time": "2019-11-05T01:03:06.695153Z",
     "start_time": "2019-11-05T01:03:06.689169Z"
    },
    "colab": {},
    "colab_type": "code",
    "id": "ujMMBLK4bFD6"
   },
   "outputs": [],
   "source": [
    "def plot_history(history):\n",
    "    train_loss_history = history.history['loss']\n",
    "    val_loss_history = history.history['val_loss']\n",
    "\n",
    "    train_acc_history = history.history['acc']\n",
    "    val_acc_history = history.history['val_acc']\n",
    "    \n",
    "    f, (ax1, ax2) = plt.subplots(1, 2, figsize=(15, 5))\n",
    "    sns.lineplot(x = [i for i in range(len(val_loss_history))], y = train_loss_history, ax = ax1 , mew=1, label = 'train loss')\n",
    "    sns.lineplot(x = [i for i in range(len(val_loss_history))], y = val_loss_history, ax = ax1 , mew=1, label = 'val loss')\n",
    "    ax1.legend(loc = 'lower right')\n",
    "    ax1.set_title('Epoch Loss Plot')\n",
    "\n",
    "    \n",
    "    sns.lineplot(x = [i for i in range(len(val_loss_history))], y = train_acc_history, ax = ax2 , mew=1, label = 'train acc')\n",
    "    sns.lineplot(x = [i for i in range(len(val_loss_history))], y = val_acc_history, ax = ax2 , mew=1, label = 'val acc')\n",
    "    ax2.set_title('Epoch Accuracy Plot')\n",
    "    ax2.legend(loc = 'lower right')\n",
    "    \n",
    "    plt.show()\n",
    "    "
   ]
  },
  {
   "cell_type": "markdown",
   "metadata": {
    "colab_type": "text",
    "id": "3OXElRWFc8hN"
   },
   "source": [
    "Code for defining and training your MLP models"
   ]
  },
  {
   "cell_type": "code",
   "execution_count": 17,
   "metadata": {
    "ExecuteTime": {
     "end_time": "2019-11-05T01:23:44.095094Z",
     "start_time": "2019-11-05T01:21:32.127937Z"
    },
    "colab": {
     "base_uri": "https://localhost:8080/",
     "height": 130
    },
    "colab_type": "code",
    "id": "mhgYA_4Uc4jA",
    "outputId": "9f9fe68b-93ed-424e-ed3a-7f91b0850979",
    "scrolled": false
   },
   "outputs": [
    {
     "data": {
      "image/png": "[encoded data removed]",
      "text/plain": [
       "<Figure size 864x576 with 2 Axes>"
      ]
     },
     "metadata": {
      "needs_background": "light"
     },
     "output_type": "display_data"
    },
    {
     "name": "stdout",
     "output_type": "stream",
     "text": [
      "Log-loss (cost function):\n",
      "training   (min:    0.481, max:    1.680, cur:    0.482)\n",
      "validation (min:    0.362, max:    0.826, cur:    0.374)\n",
      "\n",
      "Accuracy:\n",
      "training   (min:    0.345, max:    0.840, cur:    0.837)\n",
      "validation (min:    0.681, max:    0.874, cur:    0.874)\n"
     ]
    }
   ],
   "source": [
    "def create_mlp(args=None):\n",
    "\t# Define model architecture\n",
    "    model = Sequential()\n",
    "    model.add(Dense(256, input_shape = (784,), activation = 'relu'))\n",
    "    model.add(Dropout(0.6))\n",
    "    model.add(Dense(128, activation = 'relu'))\n",
    "    model.add(Dropout(0.4))\n",
    "    model.add(Dense(50, activation = 'relu'))\n",
    "    model.add(BatchNormalization(momentum = .70))\n",
    "    model.add(Dense(50, activation = 'relu'))\n",
    "    model.add(Dense(25, activation = 'relu'))\n",
    "    model.add(Dropout(0.5))\n",
    "    model.add(Dense(10))\n",
    "    model.add(Activation('softmax'))\n",
    "\n",
    "    return model\n",
    "\n",
    "\n",
    "def train_mlp(x_train, y_train, x_vali=None, y_vali=None, args=None):\n",
    "    model_path = \"best_mlp_ model.h5\"\n",
    "    early_stopping = keras.callbacks.EarlyStopping(monitor='val_loss',\n",
    "                                                   min_delta=0,\n",
    "                                                   patience=50,\n",
    "                                                   verbose=1,\n",
    "                                                   mode='auto')\n",
    "\n",
    "    MCP = keras.callbacks.ModelCheckpoint(\n",
    "       model_path,\n",
    "        monitor='val_acc',\n",
    "        mode='max',\n",
    "        verbose=1,\n",
    "        save_best_only=True)\n",
    "    # You can use args to pass parameter values to this method\n",
    "    y_train = keras.utils.to_categorical(y_train, num_classes=10)\n",
    "    model = create_mlp(args)\n",
    "    with tf.device('/gpu:0'):\n",
    "        model.compile(loss='categorical_crossentropy',\n",
    "                  optimizer=keras.optimizers.SGD(lr=0.01, momentum=0.975, decay=2e-06, nesterov=True),\n",
    "                  metrics=['accuracy'])\n",
    "\n",
    "        sess = tf.Session(config=tf.ConfigProto(allow_soft_placement=True,\n",
    "                                            log_device_placement=True))\n",
    "\n",
    "        history = model.fit(x_train,y_train , batch_size= 256,\n",
    "                       epochs=100, verbose=2, validation_split= .1, callbacks= [early_stopping, MCP, PlotLossesCallback()])\n",
    "        sess.close()\n",
    "        model = load_model(model_path) #Load best model from disc\n",
    "        return model, history\n",
    "\n",
    "model, history = train_mlp(x_train, y_train)\n"
   ]
  },
  {
   "cell_type": "code",
   "execution_count": 19,
   "metadata": {
    "ExecuteTime": {
     "end_time": "2019-11-05T01:24:32.234863Z",
     "start_time": "2019-11-05T01:24:32.230874Z"
    }
   },
   "outputs": [
    {
     "name": "stdout",
     "output_type": "stream",
     "text": [
      "_________________________________________________________________\n",
      "Layer (type)                 Output Shape              Param #   \n",
      "=================================================================\n",
      "dense_65 (Dense)             (None, 256)               200960    \n",
      "_________________________________________________________________\n",
      "dropout_30 (Dropout)         (None, 256)               0         \n",
      "_________________________________________________________________\n",
      "dense_66 (Dense)             (None, 128)               32896     \n",
      "_________________________________________________________________\n",
      "dropout_31 (Dropout)         (None, 128)               0         \n",
      "_________________________________________________________________\n",
      "dense_67 (Dense)             (None, 50)                6450      \n",
      "_________________________________________________________________\n",
      "batch_normalization_50 (Batc (None, 50)                200       \n",
      "_________________________________________________________________\n",
      "dense_68 (Dense)             (None, 50)                2550      \n",
      "_________________________________________________________________\n",
      "dense_69 (Dense)             (None, 25)                1275      \n",
      "_________________________________________________________________\n",
      "dropout_32 (Dropout)         (None, 25)                0         \n",
      "_________________________________________________________________\n",
      "dense_70 (Dense)             (None, 10)                260       \n",
      "_________________________________________________________________\n",
      "activation_32 (Activation)   (None, 10)                0         \n",
      "=================================================================\n",
      "Total params: 244,591\n",
      "Trainable params: 244,491\n",
      "Non-trainable params: 100\n",
      "_________________________________________________________________\n"
     ]
    }
   ],
   "source": [
    "model.summary()"
   ]
  },
  {
   "cell_type": "markdown",
   "metadata": {
    "colab_type": "text",
    "id": "CIF5HwMWdDn2"
   },
   "source": [
    "Code for defining and training your CNN models"
   ]
  },
  {
   "cell_type": "code",
   "execution_count": 58,
   "metadata": {
    "ExecuteTime": {
     "end_time": "2019-11-05T23:50:10.075763Z",
     "start_time": "2019-11-05T23:38:10.190642Z"
    },
    "colab": {},
    "colab_type": "code",
    "id": "8hA6yMX8dFsG",
    "scrolled": true
   },
   "outputs": [
    {
     "data": {
      "image/png": "[encoded data removed]",
      "text/plain": [
       "<Figure size 864x576 with 2 Axes>"
      ]
     },
     "metadata": {
      "needs_background": "light"
     },
     "output_type": "display_data"
    },
    {
     "ename": "IndexError",
     "evalue": "list index out of range",
     "output_type": "error",
     "traceback": [
      "\u001b[1;31m---------------------------------------------------------------------------\u001b[0m",
      "\u001b[1;31mIndexError\u001b[0m                                Traceback (most recent call last)",
      "\u001b[1;32m<ipython-input-58-9888ddb916d4>\u001b[0m in \u001b[0;36m<module>\u001b[1;34m\u001b[0m\n\u001b[0;32m    147\u001b[0m \u001b[1;33m\u001b[0m\u001b[0m\n\u001b[0;32m    148\u001b[0m \u001b[1;33m\u001b[0m\u001b[0m\n\u001b[1;32m--> 149\u001b[1;33m \u001b[0mmodel\u001b[0m\u001b[1;33m,\u001b[0m \u001b[0mhistory\u001b[0m \u001b[1;33m=\u001b[0m \u001b[0mtrain_cnn\u001b[0m\u001b[1;33m(\u001b[0m\u001b[0mx_train\u001b[0m\u001b[1;33m,\u001b[0m \u001b[0my_train\u001b[0m\u001b[1;33m)\u001b[0m\u001b[1;33m\u001b[0m\u001b[0m\n\u001b[0m\u001b[0;32m    150\u001b[0m \u001b[1;31m#model.summary()\u001b[0m\u001b[1;33m\u001b[0m\u001b[1;33m\u001b[0m\u001b[0m\n",
      "\u001b[1;32m<ipython-input-58-9888ddb916d4>\u001b[0m in \u001b[0;36mtrain_cnn\u001b[1;34m(x_train, y_train, vali, args)\u001b[0m\n\u001b[0;32m     90\u001b[0m                     \u001b[0mepochs\u001b[0m\u001b[1;33m=\u001b[0m\u001b[1;36m100\u001b[0m\u001b[1;33m,\u001b[0m\u001b[1;33m\u001b[0m\u001b[0m\n\u001b[0;32m     91\u001b[0m                     \u001b[0mverbose\u001b[0m\u001b[1;33m=\u001b[0m\u001b[1;36m1\u001b[0m\u001b[1;33m,\u001b[0m\u001b[1;33m\u001b[0m\u001b[0m\n\u001b[1;32m---> 92\u001b[1;33m                     callbacks=[early_stopping, MCP, PlotLossesCallback()])\n\u001b[0m\u001b[0;32m     93\u001b[0m     \u001b[1;32mreturn\u001b[0m \u001b[0mmodel\u001b[0m\u001b[1;33m,\u001b[0m \u001b[0mhistory\u001b[0m\u001b[1;33m\u001b[0m\u001b[0m\n\u001b[0;32m     94\u001b[0m \u001b[1;33m\u001b[0m\u001b[0m\n",
      "\u001b[1;32m~\\AppData\\Roaming\\Python\\Python37\\site-packages\\keras\\engine\\training.py\u001b[0m in \u001b[0;36mfit\u001b[1;34m(self, x, y, batch_size, epochs, verbose, callbacks, validation_split, validation_data, shuffle, class_weight, sample_weight, initial_epoch, steps_per_epoch, validation_steps, **kwargs)\u001b[0m\n\u001b[0;32m   1037\u001b[0m                                         \u001b[0minitial_epoch\u001b[0m\u001b[1;33m=\u001b[0m\u001b[0minitial_epoch\u001b[0m\u001b[1;33m,\u001b[0m\u001b[1;33m\u001b[0m\u001b[0m\n\u001b[0;32m   1038\u001b[0m                                         \u001b[0msteps_per_epoch\u001b[0m\u001b[1;33m=\u001b[0m\u001b[0msteps_per_epoch\u001b[0m\u001b[1;33m,\u001b[0m\u001b[1;33m\u001b[0m\u001b[0m\n\u001b[1;32m-> 1039\u001b[1;33m                                         validation_steps=validation_steps)\n\u001b[0m\u001b[0;32m   1040\u001b[0m \u001b[1;33m\u001b[0m\u001b[0m\n\u001b[0;32m   1041\u001b[0m     def evaluate(self, x=None, y=None,\n",
      "\u001b[1;32m~\\AppData\\Roaming\\Python\\Python37\\site-packages\\keras\\engine\\training_arrays.py\u001b[0m in \u001b[0;36mfit_loop\u001b[1;34m(model, f, ins, out_labels, batch_size, epochs, verbose, callbacks, val_f, val_ins, shuffle, callback_metrics, initial_epoch, steps_per_epoch, validation_steps)\u001b[0m\n\u001b[0;32m    215\u001b[0m                         \u001b[1;32mfor\u001b[0m \u001b[0ml\u001b[0m\u001b[1;33m,\u001b[0m \u001b[0mo\u001b[0m \u001b[1;32min\u001b[0m \u001b[0mzip\u001b[0m\u001b[1;33m(\u001b[0m\u001b[0mout_labels\u001b[0m\u001b[1;33m,\u001b[0m \u001b[0mval_outs\u001b[0m\u001b[1;33m)\u001b[0m\u001b[1;33m:\u001b[0m\u001b[1;33m\u001b[0m\u001b[0m\n\u001b[0;32m    216\u001b[0m                             \u001b[0mepoch_logs\u001b[0m\u001b[1;33m[\u001b[0m\u001b[1;34m'val_'\u001b[0m \u001b[1;33m+\u001b[0m \u001b[0ml\u001b[0m\u001b[1;33m]\u001b[0m \u001b[1;33m=\u001b[0m \u001b[0mo\u001b[0m\u001b[1;33m\u001b[0m\u001b[0m\n\u001b[1;32m--> 217\u001b[1;33m         \u001b[0mcallbacks\u001b[0m\u001b[1;33m.\u001b[0m\u001b[0mon_epoch_end\u001b[0m\u001b[1;33m(\u001b[0m\u001b[0mepoch\u001b[0m\u001b[1;33m,\u001b[0m \u001b[0mepoch_logs\u001b[0m\u001b[1;33m)\u001b[0m\u001b[1;33m\u001b[0m\u001b[0m\n\u001b[0m\u001b[0;32m    218\u001b[0m         \u001b[1;32mif\u001b[0m \u001b[0mcallback_model\u001b[0m\u001b[1;33m.\u001b[0m\u001b[0mstop_training\u001b[0m\u001b[1;33m:\u001b[0m\u001b[1;33m\u001b[0m\u001b[0m\n\u001b[0;32m    219\u001b[0m             \u001b[1;32mbreak\u001b[0m\u001b[1;33m\u001b[0m\u001b[0m\n",
      "\u001b[1;32m~\\AppData\\Roaming\\Python\\Python37\\site-packages\\keras\\callbacks.py\u001b[0m in \u001b[0;36mon_epoch_end\u001b[1;34m(self, epoch, logs)\u001b[0m\n\u001b[0;32m     77\u001b[0m         \u001b[0mlogs\u001b[0m \u001b[1;33m=\u001b[0m \u001b[0mlogs\u001b[0m \u001b[1;32mor\u001b[0m \u001b[1;33m{\u001b[0m\u001b[1;33m}\u001b[0m\u001b[1;33m\u001b[0m\u001b[0m\n\u001b[0;32m     78\u001b[0m         \u001b[1;32mfor\u001b[0m \u001b[0mcallback\u001b[0m \u001b[1;32min\u001b[0m \u001b[0mself\u001b[0m\u001b[1;33m.\u001b[0m\u001b[0mcallbacks\u001b[0m\u001b[1;33m:\u001b[0m\u001b[1;33m\u001b[0m\u001b[0m\n\u001b[1;32m---> 79\u001b[1;33m             \u001b[0mcallback\u001b[0m\u001b[1;33m.\u001b[0m\u001b[0mon_epoch_end\u001b[0m\u001b[1;33m(\u001b[0m\u001b[0mepoch\u001b[0m\u001b[1;33m,\u001b[0m \u001b[0mlogs\u001b[0m\u001b[1;33m)\u001b[0m\u001b[1;33m\u001b[0m\u001b[0m\n\u001b[0m\u001b[0;32m     80\u001b[0m \u001b[1;33m\u001b[0m\u001b[0m\n\u001b[0;32m     81\u001b[0m     \u001b[1;32mdef\u001b[0m \u001b[0mon_batch_begin\u001b[0m\u001b[1;33m(\u001b[0m\u001b[0mself\u001b[0m\u001b[1;33m,\u001b[0m \u001b[0mbatch\u001b[0m\u001b[1;33m,\u001b[0m \u001b[0mlogs\u001b[0m\u001b[1;33m=\u001b[0m\u001b[1;32mNone\u001b[0m\u001b[1;33m)\u001b[0m\u001b[1;33m:\u001b[0m\u001b[1;33m\u001b[0m\u001b[0m\n",
      "\u001b[1;32m~\\AppData\\Roaming\\Python\\Python37\\site-packages\\livelossplot\\generic_keras.py\u001b[0m in \u001b[0;36mon_epoch_end\u001b[1;34m(self, epoch, logs)\u001b[0m\n\u001b[0;32m     64\u001b[0m     \u001b[1;32mdef\u001b[0m \u001b[0mon_epoch_end\u001b[0m\u001b[1;33m(\u001b[0m\u001b[0mself\u001b[0m\u001b[1;33m,\u001b[0m \u001b[0mepoch\u001b[0m\u001b[1;33m,\u001b[0m \u001b[0mlogs\u001b[0m\u001b[1;33m=\u001b[0m\u001b[1;33m{\u001b[0m\u001b[1;33m}\u001b[0m\u001b[1;33m)\u001b[0m\u001b[1;33m:\u001b[0m\u001b[1;33m\u001b[0m\u001b[0m\n\u001b[0;32m     65\u001b[0m         \u001b[0mself\u001b[0m\u001b[1;33m.\u001b[0m\u001b[0mliveplot\u001b[0m\u001b[1;33m.\u001b[0m\u001b[0mupdate\u001b[0m\u001b[1;33m(\u001b[0m\u001b[0mlogs\u001b[0m\u001b[1;33m.\u001b[0m\u001b[0mcopy\u001b[0m\u001b[1;33m(\u001b[0m\u001b[1;33m)\u001b[0m\u001b[1;33m)\u001b[0m\u001b[1;33m\u001b[0m\u001b[0m\n\u001b[1;32m---> 66\u001b[1;33m         \u001b[0mself\u001b[0m\u001b[1;33m.\u001b[0m\u001b[0mliveplot\u001b[0m\u001b[1;33m.\u001b[0m\u001b[0mdraw\u001b[0m\u001b[1;33m(\u001b[0m\u001b[1;33m)\u001b[0m\u001b[1;33m\u001b[0m\u001b[0m\n\u001b[0m",
      "\u001b[1;32m~\\AppData\\Roaming\\Python\\Python37\\site-packages\\livelossplot\\generic_plot.py\u001b[0m in \u001b[0;36mdraw\u001b[1;34m(self)\u001b[0m\n\u001b[0;32m    115\u001b[0m                               \u001b[0mself\u001b[0m\u001b[1;33m.\u001b[0m\u001b[0mmetrics_extrema\u001b[0m\u001b[1;33m,\u001b[0m\u001b[1;33m\u001b[0m\u001b[0m\n\u001b[0;32m    116\u001b[0m                               \u001b[0mseries_fmt\u001b[0m\u001b[1;33m=\u001b[0m\u001b[0mself\u001b[0m\u001b[1;33m.\u001b[0m\u001b[0mseries_fmt\u001b[0m\u001b[1;33m,\u001b[0m\u001b[1;33m\u001b[0m\u001b[0m\n\u001b[1;32m--> 117\u001b[1;33m                               metric2title=self.metric2title)\n\u001b[0m\u001b[0;32m    118\u001b[0m         \u001b[1;32mif\u001b[0m \u001b[0mself\u001b[0m\u001b[1;33m.\u001b[0m\u001b[0mtarget\u001b[0m \u001b[1;33m==\u001b[0m \u001b[0mNEPTUNE_TARGET\u001b[0m\u001b[1;33m:\u001b[0m\u001b[1;33m\u001b[0m\u001b[0m\n\u001b[0;32m    119\u001b[0m             \u001b[1;32mfrom\u001b[0m \u001b[1;33m.\u001b[0m\u001b[0mneptune_integration\u001b[0m \u001b[1;32mimport\u001b[0m \u001b[0mneptune_send_plot\u001b[0m\u001b[1;33m\u001b[0m\u001b[0m\n",
      "\u001b[1;32m~\\AppData\\Roaming\\Python\\Python37\\site-packages\\livelossplot\\core.py\u001b[0m in \u001b[0;36mprint_extrema\u001b[1;34m(logs, metrics, extrema, series_fmt, metric2title)\u001b[0m\n\u001b[0;32m     94\u001b[0m                 \u001b[0mmin\u001b[0m\u001b[1;33m=\u001b[0m\u001b[0mextrema\u001b[0m\u001b[1;33m[\u001b[0m\u001b[0mserie_metric_name\u001b[0m\u001b[1;33m]\u001b[0m\u001b[1;33m.\u001b[0m\u001b[0mget\u001b[0m\u001b[1;33m(\u001b[0m\u001b[1;34m'min'\u001b[0m\u001b[1;33m)\u001b[0m\u001b[1;33m,\u001b[0m\u001b[1;33m\u001b[0m\u001b[0m\n\u001b[0;32m     95\u001b[0m                 \u001b[0mmax\u001b[0m\u001b[1;33m=\u001b[0m\u001b[0mextrema\u001b[0m\u001b[1;33m[\u001b[0m\u001b[0mserie_metric_name\u001b[0m\u001b[1;33m]\u001b[0m\u001b[1;33m.\u001b[0m\u001b[0mget\u001b[0m\u001b[1;33m(\u001b[0m\u001b[1;34m'max'\u001b[0m\u001b[1;33m)\u001b[0m\u001b[1;33m,\u001b[0m\u001b[1;33m\u001b[0m\u001b[0m\n\u001b[1;32m---> 96\u001b[1;33m                 cur=serie_metric_logs[-1])\n\u001b[0m\u001b[0;32m     97\u001b[0m \u001b[1;33m\u001b[0m\u001b[0m\n\u001b[0;32m     98\u001b[0m             \u001b[1;32mif\u001b[0m \u001b[0mi\u001b[0m \u001b[1;33m==\u001b[0m \u001b[1;36m0\u001b[0m\u001b[1;33m:\u001b[0m\u001b[1;33m\u001b[0m\u001b[0m\n",
      "\u001b[1;31mIndexError\u001b[0m: list index out of range"
     ]
    }
   ],
   "source": [
    "\n",
    "\n",
    "from livelossplot.keras import PlotLossesCallback\n",
    "\n",
    "\n",
    "def create_cnn(args=None):\n",
    "    # 28x28 images with 1 color channel\n",
    "    input_shape = (28, 28, 1)\n",
    "\n",
    "    # Define model architecture\n",
    "    model = Sequential()\n",
    "    model.add(\n",
    "        Conv2D(32, (3, 3),\n",
    "               activation='relu',\n",
    "               input_shape=input_shape,\n",
    "               padding=\"same\"))\n",
    "    \n",
    "    model.add(BatchNormalization()),\n",
    "    model.add(Conv2D(64, kernel_size=(3, 3), activation='relu')),\n",
    "    model.add(BatchNormalization()),\n",
    "    model.add(MaxPooling2D(pool_size=(2, 2))),\n",
    "    model.add(Dropout(0.5))\n",
    "    model.add(Conv2D(128, kernel_size=(3, 3), activation='relu', padding='same')),\n",
    "    model.add(BatchNormalization()),\n",
    "    model.add(Conv2D(128, kernel_size=(3, 3), activation='relu')),\n",
    "    model.add(BatchNormalization()),        \n",
    "    model.add(MaxPooling2D(pool_size=(2, 2))),\n",
    "    model.add(Dropout(0.5))\n",
    "\n",
    "    model.add(Conv2D(256, kernel_size=(3, 3), activation='relu', padding='same')),\n",
    "    model.add(BatchNormalization()),\n",
    "    model.add(Conv2D(256, kernel_size=(3, 3), activation='relu')),\n",
    "    model.add(BatchNormalization()),    \n",
    "    model.add(MaxPooling2D(pool_size=(2, 2))),   \n",
    "\n",
    "    model.add(Flatten()),\n",
    "    \n",
    "    model.add(Dense(1024, activation='relu')),\n",
    "    model.add(Dropout(0.5))\n",
    "\n",
    "    model.add(Dense(512, activation='relu')),\n",
    "\n",
    "    model.add(Dense(10, activation='softmax'))\n",
    "\n",
    "\n",
    "\n",
    "    return model\n",
    "\n",
    "\n",
    "def train_cnn(x_train, y_train, vali = 0.10, args=None):\n",
    "    model_path = \"best_cnn_model_v2.h5\"\n",
    "    early_stopping = keras.callbacks.EarlyStopping(monitor='val_loss',\n",
    "                                                   min_delta=0,\n",
    "                                                   patience=50,\n",
    "                                                   verbose=1,\n",
    "                                                   mode='auto')\n",
    "\n",
    "    MCP = keras.callbacks.ModelCheckpoint(\n",
    "       model_path,\n",
    "        monitor='val_acc',\n",
    "        mode='max',\n",
    "        verbose=1,\n",
    "        save_best_only=True)\n",
    "    # You can use args to pass parameter values to this method\n",
    "    x_train = x_train.reshape(-1, 28, 28, 1)\n",
    "    # You can use args to pass parameter values to this method\n",
    "    y_train = keras.utils.to_categorical(y_train, num_classes=10)\n",
    "    model = create_cnn(args)\n",
    "    with tf.device('/gpu:0'):\n",
    "        model.compile(loss='categorical_crossentropy',\n",
    "                      optimizer=Adam(lr=0.0001, decay=1e-6),\n",
    "                      metrics=['accuracy'])\n",
    "\n",
    "        sess = tf.Session(config=tf.ConfigProto(allow_soft_placement=True,\n",
    "                                                log_device_placement=True))\n",
    "\n",
    "        history = model.fit(x_train,\n",
    "                            y_train,\n",
    "                            batch_size=256,\n",
    "                            epochs=100,\n",
    "                            verbose=1,\n",
    "                            validation_split=vali,\n",
    "                            callbacks=[early_stopping, MCP, PlotLossesCallback()])\n",
    "        sess.close()\n",
    "        model = load_model(model_path)  #Load best model from disc\n",
    "        \n",
    "        history = model.fit(x_train,\n",
    "                    y_train,\n",
    "                    batch_size=256,\n",
    "                    epochs=100,\n",
    "                    verbose=1,\n",
    "                    callbacks=[early_stopping, MCP, PlotLossesCallback()])\n",
    "    return model, history\n",
    "\n",
    "\n",
    "        \n",
    "def train_cnn_augment(x_train, y_train, vali = 0.10, args=None):\n",
    "    model_path = \"best_cnn_model_augmentation.h5\"\n",
    "    early_stopping = keras.callbacks.EarlyStopping(monitor='val_loss',\n",
    "                                                   min_delta=0,\n",
    "                                                   patience=50,\n",
    "                                                   verbose=1,\n",
    "                                                   mode='auto')\n",
    "\n",
    "    MCP = keras.callbacks.ModelCheckpoint(\n",
    "       model_path,\n",
    "        monitor='val_acc',\n",
    "        mode='max',\n",
    "        verbose=1,\n",
    "        save_best_only=True)\n",
    "    # You can use args to pass parameter values to this method\n",
    "    x_train = x_train.reshape(-1, 28, 28, 1)\n",
    "    # You can use args to pass parameter values to this method\n",
    "    y_train = keras.utils.to_categorical(y_train, num_classes=10)\n",
    "    \n",
    "    \n",
    "    x_train, x_vali, y_train, y_vali = sklearn.model_selection.train_test_split(x_train, y_train, test_size = 0.1)\n",
    "    \n",
    "    train_datagen  = ImageDataGenerator(\n",
    "    featurewise_center=False,\n",
    "    featurewise_std_normalization=False,\n",
    "    rotation_range=20,\n",
    "    width_shift_range=0.2,\n",
    "    height_shift_range=0.2,\n",
    "    horizontal_flip=True)\n",
    "    \n",
    "    \n",
    "    \n",
    "    model = create_cnn(args)\n",
    "    with tf.device('/gpu:0'):\n",
    "        model.compile(loss='categorical_crossentropy',\n",
    "                      optimizer=Adam(lr=0.0001, decay=1e-6),\n",
    "                      metrics=['accuracy'])\n",
    "\n",
    "        sess = tf.Session(config=tf.ConfigProto(allow_soft_placement=True,\n",
    "                                                log_device_placement=True))\n",
    "        \n",
    "        \n",
    "        history = model.fit_generator(train_datagen.flow(x_train, y_train, batch_size=256),\n",
    "                    steps_per_epoch=len(x_train)/100, epochs=100, validation_data = (x_vali, y_vali))\n",
    "\n",
    "        sess.close()\n",
    "        model = load_model(model_path)  #Load best model from disc\n",
    "    return model, history\n",
    "    \n",
    "    \n",
    "\n",
    "\n",
    "model, history = train_cnn(x_train, y_train)\n",
    "#model.summary()\n"
   ]
  },
  {
   "cell_type": "code",
   "execution_count": 54,
   "metadata": {
    "ExecuteTime": {
     "end_time": "2019-11-05T19:19:23.424494Z",
     "start_time": "2019-11-05T19:19:23.420521Z"
    }
   },
   "outputs": [
    {
     "data": {
      "text/plain": [
       "<keras_preprocessing.image.numpy_array_iterator.NumpyArrayIterator at 0x29dbec75828>"
      ]
     },
     "execution_count": 54,
     "metadata": {},
     "output_type": "execute_result"
    }
   ],
   "source": [
    "    train_datagen  = ImageDataGenerator(\n",
    "    featurewise_center=True,\n",
    "    featurewise_std_normalization=False,\n",
    "    rotation_range=20,\n",
    "    width_shift_range=0.2,\n",
    "    height_shift_range=0.2,\n",
    "    horizontal_flip=True)\n",
    "x_train = x_train.reshape(-1, 28, 28, 1)\n",
    "\n",
    "train_datagen.fl"
   ]
  },
  {
   "cell_type": "markdown",
   "metadata": {
    "colab_type": "text",
    "id": "u6TLfQdUdIPD"
   },
   "source": [
    "An optional method you can use to repeatedly call create_mlp, train_mlp, create_cnn, or train_cnn. \n",
    "You can use it for performing cross validation or parameter searching."
   ]
  },
  {
   "cell_type": "markdown",
   "metadata": {
    "colab_type": "text",
    "id": "uPfB5kgadYfn"
   },
   "source": [
    "Main method. Make sure the file paths here point to the correct place in your google drive."
   ]
  },
  {
   "cell_type": "code",
   "execution_count": 22,
   "metadata": {
    "ExecuteTime": {
     "end_time": "2019-10-31T15:45:10.129630Z",
     "start_time": "2019-10-31T15:45:10.078765Z"
    },
    "colab": {
     "base_uri": "https://localhost:8080/",
     "height": 246
    },
    "colab_type": "code",
    "id": "7BEZTSQ_dcim",
    "outputId": "b1512e94-b16f-4313-dcaf-6875a33a8a56"
   },
   "outputs": [
    {
     "ename": "FileNotFoundError",
     "evalue": "[Errno 2] File b'-f' does not exist: b'-f'",
     "output_type": "error",
     "traceback": [
      "\u001b[1;31m---------------------------------------------------------------------------\u001b[0m",
      "\u001b[1;31mFileNotFoundError\u001b[0m                         Traceback (most recent call last)",
      "\u001b[1;32m<ipython-input-22-0f12e592515c>\u001b[0m in \u001b[0;36m<module>\u001b[1;34m\u001b[0m\n\u001b[0;32m      9\u001b[0m     \u001b[1;31m#test_file = 'fashion_test.csv'\u001b[0m\u001b[1;33m\u001b[0m\u001b[1;33m\u001b[0m\u001b[0m\n\u001b[0;32m     10\u001b[0m     \u001b[0mtrain_file\u001b[0m\u001b[1;33m,\u001b[0m \u001b[0mtest_file\u001b[0m \u001b[1;33m=\u001b[0m \u001b[0msys\u001b[0m\u001b[1;33m.\u001b[0m\u001b[0margv\u001b[0m\u001b[1;33m[\u001b[0m\u001b[1;36m1\u001b[0m\u001b[1;33m]\u001b[0m\u001b[1;33m,\u001b[0m \u001b[0msys\u001b[0m\u001b[1;33m.\u001b[0m\u001b[0margv\u001b[0m\u001b[1;33m[\u001b[0m\u001b[1;36m2\u001b[0m\u001b[1;33m]\u001b[0m\u001b[1;33m\u001b[0m\u001b[0m\n\u001b[1;32m---> 11\u001b[1;33m     \u001b[0mx_train\u001b[0m\u001b[1;33m,\u001b[0m \u001b[0my_train\u001b[0m \u001b[1;33m=\u001b[0m \u001b[0mget_data\u001b[0m\u001b[1;33m(\u001b[0m\u001b[0mtrain_file\u001b[0m\u001b[1;33m)\u001b[0m\u001b[1;33m\u001b[0m\u001b[0m\n\u001b[0m\u001b[0;32m     12\u001b[0m     \u001b[0mx_test\u001b[0m\u001b[1;33m,\u001b[0m \u001b[0my_test\u001b[0m \u001b[1;33m=\u001b[0m \u001b[0mget_data\u001b[0m\u001b[1;33m(\u001b[0m\u001b[0mtest_file\u001b[0m\u001b[1;33m,\u001b[0m \u001b[0mshuffle\u001b[0m \u001b[1;33m=\u001b[0m \u001b[1;32mFalse\u001b[0m\u001b[1;33m)\u001b[0m\u001b[1;33m\u001b[0m\u001b[0m\n\u001b[0;32m     13\u001b[0m \u001b[1;33m\u001b[0m\u001b[0m\n",
      "\u001b[1;32m<ipython-input-21-6a82c59f1a74>\u001b[0m in \u001b[0;36mget_data\u001b[1;34m(datafile, shuffle)\u001b[0m\n\u001b[0;32m      1\u001b[0m \u001b[1;31m### Already implemented\u001b[0m\u001b[1;33m\u001b[0m\u001b[1;33m\u001b[0m\u001b[0m\n\u001b[0;32m      2\u001b[0m \u001b[1;32mdef\u001b[0m \u001b[0mget_data\u001b[0m\u001b[1;33m(\u001b[0m\u001b[0mdatafile\u001b[0m\u001b[1;33m,\u001b[0m \u001b[0mshuffle\u001b[0m \u001b[1;33m=\u001b[0m \u001b[1;32mTrue\u001b[0m\u001b[1;33m)\u001b[0m\u001b[1;33m:\u001b[0m\u001b[1;33m\u001b[0m\u001b[0m\n\u001b[1;32m----> 3\u001b[1;33m     \u001b[0mdataframe\u001b[0m \u001b[1;33m=\u001b[0m \u001b[0mpd\u001b[0m\u001b[1;33m.\u001b[0m\u001b[0mread_csv\u001b[0m\u001b[1;33m(\u001b[0m\u001b[0mdatafile\u001b[0m\u001b[1;33m)\u001b[0m\u001b[1;33m\u001b[0m\u001b[0m\n\u001b[0m\u001b[0;32m      4\u001b[0m     \u001b[1;32mif\u001b[0m \u001b[0mshuffle\u001b[0m\u001b[1;33m:\u001b[0m\u001b[1;33m\u001b[0m\u001b[0m\n\u001b[0;32m      5\u001b[0m         \u001b[0mdataframe\u001b[0m \u001b[1;33m=\u001b[0m \u001b[0mshuffle\u001b[0m\u001b[1;33m(\u001b[0m\u001b[0mdataframe\u001b[0m\u001b[1;33m)\u001b[0m\u001b[1;33m\u001b[0m\u001b[0m\n",
      "\u001b[1;32m~\\AppData\\Roaming\\Python\\Python37\\site-packages\\pandas\\io\\parsers.py\u001b[0m in \u001b[0;36mparser_f\u001b[1;34m(filepath_or_buffer, sep, delimiter, header, names, index_col, usecols, squeeze, prefix, mangle_dupe_cols, dtype, engine, converters, true_values, false_values, skipinitialspace, skiprows, skipfooter, nrows, na_values, keep_default_na, na_filter, verbose, skip_blank_lines, parse_dates, infer_datetime_format, keep_date_col, date_parser, dayfirst, iterator, chunksize, compression, thousands, decimal, lineterminator, quotechar, quoting, doublequote, escapechar, comment, encoding, dialect, tupleize_cols, error_bad_lines, warn_bad_lines, delim_whitespace, low_memory, memory_map, float_precision)\u001b[0m\n\u001b[0;32m    700\u001b[0m                     skip_blank_lines=skip_blank_lines)\n\u001b[0;32m    701\u001b[0m \u001b[1;33m\u001b[0m\u001b[0m\n\u001b[1;32m--> 702\u001b[1;33m         \u001b[1;32mreturn\u001b[0m \u001b[0m_read\u001b[0m\u001b[1;33m(\u001b[0m\u001b[0mfilepath_or_buffer\u001b[0m\u001b[1;33m,\u001b[0m \u001b[0mkwds\u001b[0m\u001b[1;33m)\u001b[0m\u001b[1;33m\u001b[0m\u001b[0m\n\u001b[0m\u001b[0;32m    703\u001b[0m \u001b[1;33m\u001b[0m\u001b[0m\n\u001b[0;32m    704\u001b[0m     \u001b[0mparser_f\u001b[0m\u001b[1;33m.\u001b[0m\u001b[0m__name__\u001b[0m \u001b[1;33m=\u001b[0m \u001b[0mname\u001b[0m\u001b[1;33m\u001b[0m\u001b[0m\n",
      "\u001b[1;32m~\\AppData\\Roaming\\Python\\Python37\\site-packages\\pandas\\io\\parsers.py\u001b[0m in \u001b[0;36m_read\u001b[1;34m(filepath_or_buffer, kwds)\u001b[0m\n\u001b[0;32m    427\u001b[0m \u001b[1;33m\u001b[0m\u001b[0m\n\u001b[0;32m    428\u001b[0m     \u001b[1;31m# Create the parser.\u001b[0m\u001b[1;33m\u001b[0m\u001b[1;33m\u001b[0m\u001b[0m\n\u001b[1;32m--> 429\u001b[1;33m     \u001b[0mparser\u001b[0m \u001b[1;33m=\u001b[0m \u001b[0mTextFileReader\u001b[0m\u001b[1;33m(\u001b[0m\u001b[0mfilepath_or_buffer\u001b[0m\u001b[1;33m,\u001b[0m \u001b[1;33m**\u001b[0m\u001b[0mkwds\u001b[0m\u001b[1;33m)\u001b[0m\u001b[1;33m\u001b[0m\u001b[0m\n\u001b[0m\u001b[0;32m    430\u001b[0m \u001b[1;33m\u001b[0m\u001b[0m\n\u001b[0;32m    431\u001b[0m     \u001b[1;32mif\u001b[0m \u001b[0mchunksize\u001b[0m \u001b[1;32mor\u001b[0m \u001b[0miterator\u001b[0m\u001b[1;33m:\u001b[0m\u001b[1;33m\u001b[0m\u001b[0m\n",
      "\u001b[1;32m~\\AppData\\Roaming\\Python\\Python37\\site-packages\\pandas\\io\\parsers.py\u001b[0m in \u001b[0;36m__init__\u001b[1;34m(self, f, engine, **kwds)\u001b[0m\n\u001b[0;32m    893\u001b[0m             \u001b[0mself\u001b[0m\u001b[1;33m.\u001b[0m\u001b[0moptions\u001b[0m\u001b[1;33m[\u001b[0m\u001b[1;34m'has_index_names'\u001b[0m\u001b[1;33m]\u001b[0m \u001b[1;33m=\u001b[0m \u001b[0mkwds\u001b[0m\u001b[1;33m[\u001b[0m\u001b[1;34m'has_index_names'\u001b[0m\u001b[1;33m]\u001b[0m\u001b[1;33m\u001b[0m\u001b[0m\n\u001b[0;32m    894\u001b[0m \u001b[1;33m\u001b[0m\u001b[0m\n\u001b[1;32m--> 895\u001b[1;33m         \u001b[0mself\u001b[0m\u001b[1;33m.\u001b[0m\u001b[0m_make_engine\u001b[0m\u001b[1;33m(\u001b[0m\u001b[0mself\u001b[0m\u001b[1;33m.\u001b[0m\u001b[0mengine\u001b[0m\u001b[1;33m)\u001b[0m\u001b[1;33m\u001b[0m\u001b[0m\n\u001b[0m\u001b[0;32m    896\u001b[0m \u001b[1;33m\u001b[0m\u001b[0m\n\u001b[0;32m    897\u001b[0m     \u001b[1;32mdef\u001b[0m \u001b[0mclose\u001b[0m\u001b[1;33m(\u001b[0m\u001b[0mself\u001b[0m\u001b[1;33m)\u001b[0m\u001b[1;33m:\u001b[0m\u001b[1;33m\u001b[0m\u001b[0m\n",
      "\u001b[1;32m~\\AppData\\Roaming\\Python\\Python37\\site-packages\\pandas\\io\\parsers.py\u001b[0m in \u001b[0;36m_make_engine\u001b[1;34m(self, engine)\u001b[0m\n\u001b[0;32m   1120\u001b[0m     \u001b[1;32mdef\u001b[0m \u001b[0m_make_engine\u001b[0m\u001b[1;33m(\u001b[0m\u001b[0mself\u001b[0m\u001b[1;33m,\u001b[0m \u001b[0mengine\u001b[0m\u001b[1;33m=\u001b[0m\u001b[1;34m'c'\u001b[0m\u001b[1;33m)\u001b[0m\u001b[1;33m:\u001b[0m\u001b[1;33m\u001b[0m\u001b[0m\n\u001b[0;32m   1121\u001b[0m         \u001b[1;32mif\u001b[0m \u001b[0mengine\u001b[0m \u001b[1;33m==\u001b[0m \u001b[1;34m'c'\u001b[0m\u001b[1;33m:\u001b[0m\u001b[1;33m\u001b[0m\u001b[0m\n\u001b[1;32m-> 1122\u001b[1;33m             \u001b[0mself\u001b[0m\u001b[1;33m.\u001b[0m\u001b[0m_engine\u001b[0m \u001b[1;33m=\u001b[0m \u001b[0mCParserWrapper\u001b[0m\u001b[1;33m(\u001b[0m\u001b[0mself\u001b[0m\u001b[1;33m.\u001b[0m\u001b[0mf\u001b[0m\u001b[1;33m,\u001b[0m \u001b[1;33m**\u001b[0m\u001b[0mself\u001b[0m\u001b[1;33m.\u001b[0m\u001b[0moptions\u001b[0m\u001b[1;33m)\u001b[0m\u001b[1;33m\u001b[0m\u001b[0m\n\u001b[0m\u001b[0;32m   1123\u001b[0m         \u001b[1;32melse\u001b[0m\u001b[1;33m:\u001b[0m\u001b[1;33m\u001b[0m\u001b[0m\n\u001b[0;32m   1124\u001b[0m             \u001b[1;32mif\u001b[0m \u001b[0mengine\u001b[0m \u001b[1;33m==\u001b[0m \u001b[1;34m'python'\u001b[0m\u001b[1;33m:\u001b[0m\u001b[1;33m\u001b[0m\u001b[0m\n",
      "\u001b[1;32m~\\AppData\\Roaming\\Python\\Python37\\site-packages\\pandas\\io\\parsers.py\u001b[0m in \u001b[0;36m__init__\u001b[1;34m(self, src, **kwds)\u001b[0m\n\u001b[0;32m   1851\u001b[0m         \u001b[0mkwds\u001b[0m\u001b[1;33m[\u001b[0m\u001b[1;34m'usecols'\u001b[0m\u001b[1;33m]\u001b[0m \u001b[1;33m=\u001b[0m \u001b[0mself\u001b[0m\u001b[1;33m.\u001b[0m\u001b[0musecols\u001b[0m\u001b[1;33m\u001b[0m\u001b[0m\n\u001b[0;32m   1852\u001b[0m \u001b[1;33m\u001b[0m\u001b[0m\n\u001b[1;32m-> 1853\u001b[1;33m         \u001b[0mself\u001b[0m\u001b[1;33m.\u001b[0m\u001b[0m_reader\u001b[0m \u001b[1;33m=\u001b[0m \u001b[0mparsers\u001b[0m\u001b[1;33m.\u001b[0m\u001b[0mTextReader\u001b[0m\u001b[1;33m(\u001b[0m\u001b[0msrc\u001b[0m\u001b[1;33m,\u001b[0m \u001b[1;33m**\u001b[0m\u001b[0mkwds\u001b[0m\u001b[1;33m)\u001b[0m\u001b[1;33m\u001b[0m\u001b[0m\n\u001b[0m\u001b[0;32m   1854\u001b[0m         \u001b[0mself\u001b[0m\u001b[1;33m.\u001b[0m\u001b[0munnamed_cols\u001b[0m \u001b[1;33m=\u001b[0m \u001b[0mself\u001b[0m\u001b[1;33m.\u001b[0m\u001b[0m_reader\u001b[0m\u001b[1;33m.\u001b[0m\u001b[0munnamed_cols\u001b[0m\u001b[1;33m\u001b[0m\u001b[0m\n\u001b[0;32m   1855\u001b[0m \u001b[1;33m\u001b[0m\u001b[0m\n",
      "\u001b[1;32mpandas\\_libs\\parsers.pyx\u001b[0m in \u001b[0;36mpandas._libs.parsers.TextReader.__cinit__\u001b[1;34m()\u001b[0m\n",
      "\u001b[1;32mpandas\\_libs\\parsers.pyx\u001b[0m in \u001b[0;36mpandas._libs.parsers.TextReader._setup_parser_source\u001b[1;34m()\u001b[0m\n",
      "\u001b[1;31mFileNotFoundError\u001b[0m: [Errno 2] File b'-f' does not exist: b'-f'"
     ]
    }
   ],
   "source": [
    "grading_mode = True\n",
    "PCA = False\n",
    "if grading_mode:\n",
    "# When we grade, we'll provide the file names as command-line arguments\n",
    "    if (len(sys.argv) != 3):\n",
    "        print(\"Usage:\\n\\tpython3 fashion.py train_file test_file\")\n",
    "        exit()\n",
    "    #train_file = 'fashion_train.csv'\n",
    "    #test_file = 'fashion_test.csv'\n",
    "    train_file, test_file = sys.argv[1], sys.argv[2]\n",
    "    x_train, y_train = get_data(train_file)\n",
    "    x_test, y_test = get_data(test_file, shuff = False)\n",
    "    \n",
    "    x_test = x_test.reshape(-1, 28, 28, 1)\n",
    "    # train your best model\n",
    "    best_model = load_model('best_cnn_model_v2.h5')\n",
    "    # use your best model to generate predictions for the test_file\n",
    "    predictions = best_model.predict_classes(x_test)\n",
    "    print('saving predictions to disc')\n",
    "    output_predictions(predictions)\n",
    "    \n",
    "    if PCA:\n",
    "        #PCA\n",
    "        print('Running PCA + Logistic Regression')\n",
    "        x_train, y_train = get_data(train_file)\n",
    "        num_comp = [2,5,10,25,50,100]\n",
    "        score_1 = {}\n",
    "        for i in num_comp:\n",
    "            train = PCA(n_components=i).fit_transform(x_train)\n",
    "            model = LogisticRegression()\n",
    "            score_1[i] = cross_validate(model, train, y_train, \n",
    "                              cv=5)\n",
    "        scores = []\n",
    "        fit_time = []\n",
    "\n",
    "        score_1\n",
    "        for i in score_1.keys():\n",
    "            scores.append(np.mean(score_1[i]['test_score']))\n",
    "            fit_time.append(np.mean(score_1[i]['fit_time']))\n",
    "        \n",
    "        sns.lineplot(x = num_comp, y = scores)\n",
    "        plt.title('Cross Validation Accuracy (Holdout Set) on various Principle Components')\n",
    "        plt.xlabel('Components')\n",
    "        plt.ylabel('Accuracy on holdout')\n",
    "        plt.show()\n",
    "\n",
    "        sns.lineplot(x = num_comp, y = fit_time)\n",
    "        plt.title('Cross Validation - Train Time')\n",
    "        plt.xlabel('Components')\n",
    "        plt.ylabel('Train Time in seconds')\n",
    "        plt.show()\n",
    "\n",
    "else:\n",
    "    ### Edit the following two lines if your paths are different\n",
    "    train_file = 'fashion_train.csv'\n",
    "    test_file = 'fashion_test.csv'\n",
    "    x_train, y_train = get_data(train_file)\n",
    "    # MLP\n",
    "    mlp_model, mlp_history = train_mlp(x_train, y_train)\n",
    "    plot_history(mlp_history)\n",
    "    visualize_weights(mlp_model)\n",
    "\n",
    "    # CNN\n",
    "    cnn_model, cnn_history = train_cnn(x_train, y_train)\n",
    "    plot_history(cnn_history)"
   ]
  }
 ],
 "metadata": {
  "colab": {
   "collapsed_sections": [],
   "name": "fashion_template.ipynb",
   "provenance": [],
   "version": "0.3.2"
  },
  "kernelspec": {
   "display_name": "Python 3",
   "language": "python",
   "name": "python3"
  },
  "language_info": {
   "codemirror_mode": {
    "name": "ipython",
    "version": 3
   },
   "file_extension": ".py",
   "mimetype": "text/x-python",
   "name": "python",
   "nbconvert_exporter": "python",
   "pygments_lexer": "ipython3",
   "version": "3.7.0"
  },
  "varInspector": {
   "cols": {
    "lenName": 16,
    "lenType": 16,
    "lenVar": 40
   },
   "kernels_config": {
    "python": {
     "delete_cmd_postfix": "",
     "delete_cmd_prefix": "del ",
     "library": "var_list.py",
     "varRefreshCmd": "print(var_dic_list())"
    },
    "r": {
     "delete_cmd_postfix": ") ",
     "delete_cmd_prefix": "rm(",
     "library": "var_list.r",
     "varRefreshCmd": "cat(var_dic_list()) "
    }
   },
   "types_to_exclude": [
    "module",
    "function",
    "builtin_function_or_method",
    "instance",
    "_Feature"
   ],
   "window_display": false
  }
 },
 "nbformat": 4,
 "nbformat_minor": 1
}
