{
 "cells": [
  {
   "cell_type": "code",
   "execution_count": 1,
   "metadata": {
    "ExecuteTime": {
     "end_time": "2019-10-28T16:08:03.992588Z",
     "start_time": "2019-10-28T16:07:55.333760Z"
    },
    "scrolled": true
   },
   "outputs": [
    {
     "name": "stdout",
     "output_type": "stream",
     "text": [
      "Num Features 100\n",
      "Num Obs: 2000\n",
      "Count of Postive Class labels: 1000\n",
      "Count of Negative Class labels: 1000\n"
     ]
    },
    {
     "ename": "KeyboardInterrupt",
     "evalue": "",
     "output_type": "error",
     "traceback": [
      "\u001b[1;31m---------------------------------------------------------------------------\u001b[0m",
      "\u001b[1;31mKeyboardInterrupt\u001b[0m                         Traceback (most recent call last)",
      "\u001b[1;32m<ipython-input-1-91a2481fe248>\u001b[0m in \u001b[0;36m<module>\u001b[1;34m\u001b[0m\n\u001b[0;32m    151\u001b[0m \u001b[1;31m# Task 2 : implement 4 fold cross validation to select best k from klist\u001b[0m\u001b[1;33m\u001b[0m\u001b[1;33m\u001b[0m\u001b[0m\n\u001b[0;32m    152\u001b[0m \u001b[1;33m\u001b[0m\u001b[0m\n\u001b[1;32m--> 153\u001b[1;33m \u001b[0mfindBestK\u001b[0m\u001b[1;33m(\u001b[0m\u001b[0mx\u001b[0m\u001b[1;33m,\u001b[0m \u001b[0my\u001b[0m\u001b[1;33m,\u001b[0m \u001b[0mklist\u001b[0m\u001b[1;33m,\u001b[0m \u001b[0mnfolds\u001b[0m\u001b[1;33m)\u001b[0m\u001b[1;33m\u001b[0m\u001b[0m\n\u001b[0m\u001b[0;32m    154\u001b[0m \u001b[0mprint\u001b[0m\u001b[1;33m(\u001b[0m\u001b[1;34m'-'\u001b[0m \u001b[1;33m*\u001b[0m\u001b[1;36m25\u001b[0m\u001b[1;33m)\u001b[0m\u001b[1;33m\u001b[0m\u001b[0m\n\u001b[0;32m    155\u001b[0m \u001b[0mprint\u001b[0m\u001b[1;33m(\u001b[0m\u001b[1;34m'Testing with Sklearn, neighbors = 11'\u001b[0m\u001b[1;33m)\u001b[0m\u001b[1;33m\u001b[0m\u001b[0m\n",
      "\u001b[1;32m<ipython-input-1-91a2481fe248>\u001b[0m in \u001b[0;36mfindBestK\u001b[1;34m(x, y, klist, nfolds)\u001b[0m\n\u001b[0;32m    121\u001b[0m         \u001b[1;32mfor\u001b[0m \u001b[0mi\u001b[0m \u001b[1;32min\u001b[0m \u001b[0mrange\u001b[0m\u001b[1;33m(\u001b[0m\u001b[1;36m0\u001b[0m\u001b[1;33m,\u001b[0m \u001b[0mnfolds\u001b[0m \u001b[1;33m-\u001b[0m \u001b[1;36m1\u001b[0m\u001b[1;33m)\u001b[0m\u001b[1;33m:\u001b[0m\u001b[1;33m\u001b[0m\u001b[0m\n\u001b[0;32m    122\u001b[0m             \u001b[0mx_train\u001b[0m\u001b[1;33m,\u001b[0m \u001b[0mx_test\u001b[0m\u001b[1;33m,\u001b[0m \u001b[0my_train\u001b[0m\u001b[1;33m,\u001b[0m \u001b[0my_test\u001b[0m \u001b[1;33m=\u001b[0m \u001b[0mfold\u001b[0m\u001b[1;33m(\u001b[0m\u001b[0mx\u001b[0m\u001b[1;33m,\u001b[0m\u001b[0my\u001b[0m\u001b[1;33m,\u001b[0m \u001b[0mi\u001b[0m\u001b[1;33m,\u001b[0m \u001b[0mnfolds\u001b[0m\u001b[1;33m)\u001b[0m\u001b[1;33m\u001b[0m\u001b[0m\n\u001b[1;32m--> 123\u001b[1;33m             \u001b[0my_predict\u001b[0m \u001b[1;33m=\u001b[0m \u001b[0mclassify\u001b[0m\u001b[1;33m(\u001b[0m\u001b[0mx_train\u001b[0m\u001b[1;33m,\u001b[0m \u001b[0my_train\u001b[0m\u001b[1;33m,\u001b[0m \u001b[0mx_test\u001b[0m\u001b[1;33m,\u001b[0m \u001b[0mk\u001b[0m\u001b[1;33m=\u001b[0m\u001b[0mk\u001b[0m\u001b[1;33m)\u001b[0m\u001b[1;33m\u001b[0m\u001b[0m\n\u001b[0m\u001b[0;32m    124\u001b[0m             \u001b[0maccuracy\u001b[0m \u001b[1;33m=\u001b[0m \u001b[0mcalc_accuracy\u001b[0m\u001b[1;33m(\u001b[0m\u001b[0my_predict\u001b[0m\u001b[1;33m,\u001b[0m \u001b[0my_test\u001b[0m\u001b[1;33m)\u001b[0m\u001b[1;33m\u001b[0m\u001b[0m\n\u001b[0;32m    125\u001b[0m             \u001b[0mfold_acc\u001b[0m\u001b[1;33m.\u001b[0m\u001b[0mappend\u001b[0m\u001b[1;33m(\u001b[0m\u001b[0maccuracy\u001b[0m\u001b[1;33m)\u001b[0m\u001b[1;33m\u001b[0m\u001b[0m\n",
      "\u001b[1;32m<ipython-input-1-91a2481fe248>\u001b[0m in \u001b[0;36mclassify\u001b[1;34m(x_train, y_train, x_test, k)\u001b[0m\n\u001b[0;32m     80\u001b[0m         \u001b[0mdistances\u001b[0m \u001b[1;33m=\u001b[0m \u001b[1;33m[\u001b[0m\u001b[1;33m]\u001b[0m\u001b[1;33m\u001b[0m\u001b[0m\n\u001b[0;32m     81\u001b[0m         \u001b[1;32mfor\u001b[0m \u001b[0mj\u001b[0m \u001b[1;32min\u001b[0m \u001b[0mrange\u001b[0m\u001b[1;33m(\u001b[0m\u001b[0mlen\u001b[0m\u001b[1;33m(\u001b[0m\u001b[0mx_train\u001b[0m\u001b[1;33m)\u001b[0m\u001b[1;33m)\u001b[0m\u001b[1;33m:\u001b[0m\u001b[1;33m\u001b[0m\u001b[0m\n\u001b[1;32m---> 82\u001b[1;33m             \u001b[0mdistances\u001b[0m\u001b[1;33m.\u001b[0m\u001b[0mappend\u001b[0m\u001b[1;33m(\u001b[0m\u001b[1;33m(\u001b[0m\u001b[0mj\u001b[0m\u001b[1;33m,\u001b[0m \u001b[0meuclidean_distance\u001b[0m\u001b[1;33m(\u001b[0m\u001b[0mx_test\u001b[0m\u001b[1;33m[\u001b[0m\u001b[0mi\u001b[0m\u001b[1;33m]\u001b[0m\u001b[1;33m,\u001b[0m \u001b[0mx_train\u001b[0m\u001b[1;33m[\u001b[0m\u001b[0mj\u001b[0m\u001b[1;33m]\u001b[0m\u001b[1;33m)\u001b[0m\u001b[1;33m,\u001b[0m \u001b[0my_train\u001b[0m\u001b[1;33m[\u001b[0m\u001b[0mj\u001b[0m\u001b[1;33m]\u001b[0m\u001b[1;33m)\u001b[0m\u001b[1;33m)\u001b[0m\u001b[1;33m\u001b[0m\u001b[0m\n\u001b[0m\u001b[0;32m     83\u001b[0m         \u001b[0msorted_all\u001b[0m \u001b[1;33m=\u001b[0m \u001b[0msorted\u001b[0m\u001b[1;33m(\u001b[0m\u001b[0mdistances\u001b[0m\u001b[1;33m,\u001b[0m \u001b[0mkey\u001b[0m \u001b[1;33m=\u001b[0m \u001b[1;32mlambda\u001b[0m \u001b[0mkv\u001b[0m\u001b[1;33m:\u001b[0m \u001b[0mkv\u001b[0m\u001b[1;33m[\u001b[0m\u001b[1;36m1\u001b[0m\u001b[1;33m]\u001b[0m\u001b[1;33m)\u001b[0m\u001b[1;33m\u001b[0m\u001b[0m\n\u001b[0;32m     84\u001b[0m         \u001b[0mneighbors\u001b[0m\u001b[1;33m[\u001b[0m\u001b[0mi\u001b[0m\u001b[1;33m]\u001b[0m \u001b[1;33m=\u001b[0m \u001b[0msorted_all\u001b[0m\u001b[1;33m[\u001b[0m\u001b[1;33m:\u001b[0m\u001b[0mk\u001b[0m\u001b[1;33m]\u001b[0m\u001b[1;33m\u001b[0m\u001b[0m\n",
      "\u001b[1;32m<ipython-input-1-91a2481fe248>\u001b[0m in \u001b[0;36meuclidean_distance\u001b[1;34m(x, y)\u001b[0m\n\u001b[0;32m     66\u001b[0m \u001b[1;33m\u001b[0m\u001b[0m\n\u001b[0;32m     67\u001b[0m \u001b[1;32mdef\u001b[0m \u001b[0meuclidean_distance\u001b[0m\u001b[1;33m(\u001b[0m\u001b[0mx\u001b[0m\u001b[1;33m,\u001b[0m\u001b[0my\u001b[0m\u001b[1;33m)\u001b[0m\u001b[1;33m:\u001b[0m\u001b[1;33m\u001b[0m\u001b[0m\n\u001b[1;32m---> 68\u001b[1;33m     \u001b[1;32mreturn\u001b[0m \u001b[0mnp\u001b[0m\u001b[1;33m.\u001b[0m\u001b[0msqrt\u001b[0m\u001b[1;33m(\u001b[0m\u001b[0mnp\u001b[0m\u001b[1;33m.\u001b[0m\u001b[0msum\u001b[0m\u001b[1;33m(\u001b[0m\u001b[1;33m(\u001b[0m\u001b[0mx\u001b[0m\u001b[1;33m-\u001b[0m\u001b[0my\u001b[0m\u001b[1;33m)\u001b[0m\u001b[1;33m**\u001b[0m\u001b[1;36m2\u001b[0m\u001b[1;33m)\u001b[0m\u001b[1;33m)\u001b[0m\u001b[1;33m\u001b[0m\u001b[0m\n\u001b[0m\u001b[0;32m     69\u001b[0m \u001b[1;33m\u001b[0m\u001b[0m\n\u001b[0;32m     70\u001b[0m \u001b[1;31m# 3. Classify each testing points based on the training points\u001b[0m\u001b[1;33m\u001b[0m\u001b[1;33m\u001b[0m\u001b[0m\n",
      "\u001b[1;32m~\\AppData\\Roaming\\Python\\Python37\\site-packages\\numpy\\core\\fromnumeric.py\u001b[0m in \u001b[0;36msum\u001b[1;34m(a, axis, dtype, out, keepdims, initial)\u001b[0m\n\u001b[0;32m   2074\u001b[0m \u001b[1;33m\u001b[0m\u001b[0m\n\u001b[0;32m   2075\u001b[0m     return _wrapreduction(a, np.add, 'sum', axis, dtype, out, keepdims=keepdims,\n\u001b[1;32m-> 2076\u001b[1;33m                           initial=initial)\n\u001b[0m\u001b[0;32m   2077\u001b[0m \u001b[1;33m\u001b[0m\u001b[0m\n\u001b[0;32m   2078\u001b[0m \u001b[1;33m\u001b[0m\u001b[0m\n",
      "\u001b[1;32m~\\AppData\\Roaming\\Python\\Python37\\site-packages\\numpy\\core\\fromnumeric.py\u001b[0m in \u001b[0;36m_wrapreduction\u001b[1;34m(obj, ufunc, method, axis, dtype, out, **kwargs)\u001b[0m\n\u001b[0;32m     68\u001b[0m \u001b[1;33m\u001b[0m\u001b[0m\n\u001b[0;32m     69\u001b[0m \u001b[1;32mdef\u001b[0m \u001b[0m_wrapreduction\u001b[0m\u001b[1;33m(\u001b[0m\u001b[0mobj\u001b[0m\u001b[1;33m,\u001b[0m \u001b[0mufunc\u001b[0m\u001b[1;33m,\u001b[0m \u001b[0mmethod\u001b[0m\u001b[1;33m,\u001b[0m \u001b[0maxis\u001b[0m\u001b[1;33m,\u001b[0m \u001b[0mdtype\u001b[0m\u001b[1;33m,\u001b[0m \u001b[0mout\u001b[0m\u001b[1;33m,\u001b[0m \u001b[1;33m**\u001b[0m\u001b[0mkwargs\u001b[0m\u001b[1;33m)\u001b[0m\u001b[1;33m:\u001b[0m\u001b[1;33m\u001b[0m\u001b[0m\n\u001b[1;32m---> 70\u001b[1;33m     passkwargs = {k: v for k, v in kwargs.items()\n\u001b[0m\u001b[0;32m     71\u001b[0m                   if v is not np._NoValue}\n\u001b[0;32m     72\u001b[0m \u001b[1;33m\u001b[0m\u001b[0m\n",
      "\u001b[1;31mKeyboardInterrupt\u001b[0m: "
     ]
    }
   ],
   "source": [
    "# Starting code for UVA CS 4501 Machine Learning- KNN\n",
    "\n",
    "import numpy as np\n",
    "np.random.seed(37)\n",
    "# for plot\n",
    "import matplotlib.pyplot as plt\n",
    "#more imports\n",
    "from sklearn.neighbors import KNeighborsClassifier\n",
    "## the only purpose of the above import is in case that you want to compare your knn with sklearn knn\n",
    "from collections import Counter\n",
    "import operator\n",
    "\n",
    "# Load file into np arrays\n",
    "# x is the features\n",
    "# y is the labels\n",
    "def read_file(file):\n",
    "    data = np.loadtxt(file, skiprows=1)\n",
    "    np.random.shuffle(data)\n",
    "    x = data[:, :-1]\n",
    "    y = data[:, -1].astype(int)\n",
    "    return x, y\n",
    "\n",
    "# 2. Generate the i-th fold of k fold validation\n",
    "# Input:\n",
    "# x is an np array for training data\n",
    "# y is an np array for labels\n",
    "# i is an int indicating current fold\n",
    "# nfolds is the total number of cross validation folds\n",
    "\n",
    "def fold(x, y ,i, nfolds):\n",
    "    valid_losses = []\n",
    "    training_losses = []\n",
    "    k = nfolds\n",
    "    #try catching for remainder/uneven split\n",
    "    m = len(x)\n",
    "    extras = m % nfolds #get remainder of length of set divided by number of folds\n",
    "    \n",
    "    if extras != 0:\n",
    "        x_train_extras = x[-extras:] #store for later\n",
    "        y_train_extras = x[-extras:] #store for later\n",
    "        \n",
    "        x_train = y[:-extras] #discard extras\n",
    "        y_train = y[:-extras]#discard extras\n",
    "        \n",
    "    #split the data into k equal sized array\n",
    "    x_train_split = np.split(x, k)\n",
    "    y_train_split = np.split(y, k)\n",
    "    \n",
    "    sets = []\n",
    "    \n",
    "    for i in range(k):\n",
    "        #loop through k folds\n",
    "        #take a split of the data for testing\n",
    "        x_test, y_test = x_train_split[i], y_train_split[i]\n",
    "        #take the remaining 3/4 of the data for training\n",
    "        x_train = np.concatenate(x_train_split[:i] + x_train_split[i + 1:], axis=0)\n",
    "        y_train = np.concatenate(y_train_split[:i] + y_train_split[i + 1:], axis=0)\n",
    "        sets.append([x_train, x_test, y_train, y_test])\n",
    "        \n",
    "    #try catching for remainder/uneven split. adding to last set as training example\n",
    "    if extras != 0:\n",
    "        np.append(sets[-1][0], x_train_extras, axis=0)\n",
    "        np.append(sets[-1][2], y_train_extras, axis=0)\n",
    "        \n",
    "    return sets[i]\n",
    "\n",
    "def euclidean_distance(x,y):\n",
    "    return np.sqrt(np.sum((x-y)**2))\n",
    "    \n",
    "# 3. Classify each testing points based on the training points\n",
    "# Input\n",
    "# x_train: a numpy array of training data \n",
    "# x_test: a numpy array\n",
    "# k: the number of neighbors to take into account when predicting the label\n",
    "# Output\n",
    "# y_predict: a numpy array \n",
    "def classify(x_train, y_train, x_test, k):\n",
    "    neighbors = {}\n",
    "    for i in range(len(x_test)):\n",
    "        distances = [] \n",
    "        for j in range(len(x_train)):\n",
    "            distances.append((j, euclidean_distance(x_test[i], x_train[j]), y_train[j]))\n",
    "        sorted_all = sorted(distances, key = lambda kv: kv[1])\n",
    "        neighbors[i] = sorted_all[:k]\n",
    "        \n",
    "    y_predict = []\n",
    "    for i in range(len(x_test)):\n",
    "        neighbors_y = Counter([x[2] for x in neighbors[i]])\n",
    "        y_predict.append(max(neighbors_y.items(), key=operator.itemgetter(1))[0])\n",
    "    # your code\n",
    "    # Euclidean distance as the measurement of distance in KNN\n",
    "    return np.array(y_predict)\n",
    "\n",
    "# 4. Calculate accuracy by comaring with true labels\n",
    "# Input\n",
    "# y_predict is a numpy array of 1s and 0s for the class prediction\n",
    "# y is a numpy array of 1s and 0s for the true class label\n",
    "def calc_accuracy(y_predict, y_true):\n",
    "    acc = np.sum(y_true == y_predict, axis=0) / len(y_true)\n",
    "    return acc\n",
    "\n",
    "# 5. Draw the bar plot of k vs. accuracy\n",
    "# klist: a list of values of ks\n",
    "# accuracy_list: a list of accuracies\n",
    "def barplot(klist, accuracy_list):\n",
    "    plt.bar(klist, accuracy_list)\n",
    "    plt.title('# of Neighbors Vs CV Accuracy')\n",
    "    plt.xlabel('# of neighbors')\n",
    "    plt.ylabel('Accuracy')\n",
    "    plt.show()\n",
    "    \n",
    "\n",
    "# 1. Find the best K\n",
    "def findBestK(x, y, klist, nfolds):\n",
    "    kbest = 0\n",
    "    best_acc = 0\n",
    "    counter = 0\n",
    "    accuracy_list = []\n",
    "    for k in klist:\n",
    "        fold_acc = []\n",
    "        for i in range(0, nfolds - 1):\n",
    "            x_train, x_test, y_train, y_test = fold(x,y, i, nfolds)\n",
    "            y_predict = classify(x_train, y_train, x_test, k=k)\n",
    "            accuracy = calc_accuracy(y_predict, y_test)\n",
    "            fold_acc.append(accuracy)\n",
    "            \n",
    "        accuracy_list.append(np.mean(accuracy))\n",
    "        accuracy = accuracy_list[counter]\n",
    "\n",
    "        if accuracy > best_acc:\n",
    "            kbest = k\n",
    "            best_acc = accuracy\n",
    "        print('Neighbors: {}, cv accuracy {}'.format(k, accuracy))\n",
    "        \n",
    "        counter += 1\n",
    "    # plot cross validation error for each k : implement function barplot(klist, accuracy_list)\n",
    "    barplot(klist, accuracy_list)\n",
    "    return kbest\n",
    "\n",
    "filename = \"Movie_Review_Data.txt\"\n",
    "# read data\n",
    "x, y = read_file(filename)\n",
    "print('Num Features', x.shape[1])\n",
    "print('Num Obs:', x.shape[0])\n",
    "print('Count of Postive Class labels:', Counter(y)[1])\n",
    "print('Count of Negative Class labels:', Counter(y)[0])\n",
    "nfolds = 8\n",
    "klist = [3, 5,7, 9, 11, 13]\n",
    "# Implementation covers two tasks, both part of findBestK function\n",
    "# Task 1 : implement kNN classifier for a given x,y,k\n",
    "# Task 2 : implement 4 fold cross validation to select best k from klist\n",
    "\n",
    "findBestK(x, y, klist, nfolds)\n",
    "print('-' *25)\n",
    "print('Testing with Sklearn, neighbors = 11')\n",
    "model = KNeighborsClassifier( 11)\n",
    "x_train, x_test, y_train, y_test = train_test_split(x,y)\n",
    "model.fit(x_train, y_train)\n",
    "y_pred = model.predict(x_test)\n",
    "acc = calc_accuracy(y_pred, y_test)\n",
    "print('sklearn KNN accuracy:', acc)"
   ]
  },
  {
   "cell_type": "code",
   "execution_count": 11,
   "metadata": {
    "ExecuteTime": {
     "end_time": "2019-10-14T14:09:36.579139Z",
     "start_time": "2019-10-14T14:09:36.575152Z"
    }
   },
   "outputs": [
    {
     "data": {
      "text/plain": [
       "\"\\nTesting decision boundaries on IRIS with various C values\\n\\n\\n\\nfrom sklearn.svm import SVC\\nimport matplotlib.pyplot as plt\\nfrom mlxtend.plotting import plot_decision_regions\\nfrom sklearn import svm, datasets\\n\\niris = datasets.load_iris()\\n\\nX = iris.data[:, :2]\\ny = iris.target\\n\\nfor i in [1e-10, 1e-1,1e1, 1e10]:\\n    svm = SVC(C=i, kernel='rbf')\\n    svm.fit(X, y)\\n    plot_decision_regions(X, y, clf=svm, legend=2)\\n    plt.title('C:{}'.format(i))\\n    plt.show()\\n\""
      ]
     },
     "execution_count": 11,
     "metadata": {},
     "output_type": "execute_result"
    }
   ],
   "source": [
    "'''\n",
    "Testing decision boundaries on IRIS with various C values\n",
    "\n",
    "\n",
    "\n",
    "from sklearn.svm import SVC\n",
    "import matplotlib.pyplot as plt\n",
    "from mlxtend.plotting import plot_decision_regions\n",
    "from sklearn import svm, datasets\n",
    "\n",
    "iris = datasets.load_iris()\n",
    "\n",
    "X = iris.data[:, :2]\n",
    "y = iris.target\n",
    "\n",
    "for i in [1e-10, 1e-1,1e1, 1e10]:\n",
    "    svm = SVC(C=i, kernel='rbf')\n",
    "    svm.fit(X, y)\n",
    "    plot_decision_regions(X, y, clf=svm, legend=2)\n",
    "    plt.title('C:{}'.format(i))\n",
    "    plt.show()\n",
    "'''\n"
   ]
  },
  {
   "cell_type": "code",
   "execution_count": 1,
   "metadata": {
    "ExecuteTime": {
     "end_time": "2019-10-28T16:17:24.187411Z",
     "start_time": "2019-10-28T16:17:23.398522Z"
    },
    "scrolled": true
   },
   "outputs": [],
   "source": [
    "# Starting code for UVA CS 4501 ML- SVM\n",
    "\n",
    "import numpy as np\n",
    "np.random.seed(37)\n",
    "import random\n",
    "from sklearn.metrics import accuracy_score\n",
    "from sklearn.model_selection import train_test_split\n",
    "from sklearn.svm import SVC\n",
    "import pandas as pd\n",
    "import seaborn as sns\n",
    "from scipy import stats\n",
    "import matplotlib.pyplot as plt\n",
    "from sklearn import preprocessing\n",
    "from sklearn.preprocessing import MinMaxScaler\n",
    "\n",
    "# Att: You're not allowed to use modules other than SVC in sklearn, i.e., model_selection.\n",
    "\n",
    "# Dataset information\n",
    "# the column names (names of the features) in the data files\n",
    "# you can use this information to preprocess the features\n",
    "col_names_x = ['age', 'workclass', 'fnlwgt', 'education', 'education-num', 'marital-status',\n",
    "             'occupation', 'relationship', 'race', 'sex', 'capital-gain', 'capital-loss',\n",
    "             'hours-per-week', 'native-country']\n",
    "col_names_y = ['label']\n",
    "\n",
    "numerical_cols = ['age', 'fnlwgt', 'education-num', 'capital-gain', 'capital-loss',\n",
    "                  'hours-per-week']\n",
    "categorical_cols = ['workclass', 'education', 'marital-status', 'occupation', 'relationship',\n",
    "                    'race', 'sex', 'native-country']\n",
    "\n",
    "\n",
    "# 1. Data loading from file and pre-processing.\n",
    "# Hint: Feel free to use some existing libraries for easier data pre-processing. \n",
    "# For example, as a start you can use one hot encoding for the categorical variables and normalization \n",
    "# for the continuous variables.\n",
    "\n",
    "        \n",
    "def calc_accuracy(y_predict, y_true):\n",
    "    acc = np.sum(y_true == y_predict, axis=0) / len(y_true) #count where reponses match divided by len of y_test\n",
    "    return acc\n",
    "        \n",
    "        \n",
    "    \n",
    "def load_data(csv_file_path, encode_cat = False, outlier_removal = True, feature_engineering = True, down_sample = False):\n",
    "    print('reading in data')\n",
    "    #I believe pandas is allowed. Using it for easier recognition of column names\n",
    "    data = pd.read_csv(csv_file_path, names = col_names_x + col_names_y) \n",
    "    df = data.copy()\n",
    "    df['label']  = df['label'].apply(lambda x: 0 if x==' <=50K' else 1)\n",
    "    #df['native-country']  = df['native-country'].apply(lambda x: \"Other\" if x!= \" United-States\" else \"United-States\")\n",
    "    df.drop(['native-country'], axis=1, inplace = True)\n",
    "    if feature_engineering:\n",
    "        df[\"marital-status\"] = df[\"marital-status\"].replace([' Married-civ-spouse',' Married-spouse-absent',' Married-AF-spouse'], 'Married')\n",
    "        df[\"marital-status\"] = df[\"marital-status\"].replace([' Never-married',' Divorced',' Separated',' Widowed'], 'Single')\n",
    "        df['race'] = df['race'].map({' White': 1, ' Asian-Pac-Islander': 1, ' Black':0, ' Amer-Indian-Eskimo':0, ' Other':0})\n",
    "        df['relationship'] = df['relationship'].map({' Not-in-family':0, ' Unmarried':0, ' Own-child':0, ' Other-relative':0, ' Husband':1, ' Wife':1})\n",
    "        #df.drop(categorical_cols, axis=1, inplace = True)\n",
    "    if outlier_removal:\n",
    "        print('removing outliers')\n",
    "        df = df[(np.abs(stats.zscore(df[numerical_cols])) < 3).all(axis=1)]\n",
    "\n",
    "    \n",
    "    if encode_cat: #encode cat features / get dummies\n",
    "        print('Categorical one hot encoding')\n",
    "        df = pd.get_dummies(df)\n",
    "\n",
    "    x = df.drop(['label'], axis=1) #extract ind. features\n",
    "    y = df['label']#extract response\n",
    "    if down_sample:\n",
    "        x = x[:10000]\n",
    "        y = y[:10000]\n",
    "    return x,y, x.columns\n",
    "\n",
    "def cross_validation(x_train, y_train, xcols, params, num_folds=3):\n",
    "    \n",
    "    #Split Data into k sets. 'Sets' contains set of sets\n",
    "    ######################################################################################\n",
    "    k = num_folds\n",
    "    #try catching for remainder/uneven split\n",
    "    m = len(x_train)\n",
    "    extras = m % num_folds  #get remainder of length of set divided by number of folds\n",
    "    if extras != 0:\n",
    "        x_train_extras = x_train[-extras:]\n",
    "        y_train_extras = y_train[-extras:]  #store for later\n",
    "        x_train = x_train[:-extras]  #discard extras\n",
    "        y_train = y_train[:-extras]  #discard extras\n",
    "    #print(len(x_train))\n",
    "    #print(len(y_train))\n",
    "    x_train_split = np.split(x_train, k)\n",
    "    y_train_split = np.split(y_train, k)\n",
    "    \n",
    "    sets = []\n",
    "    for i in range(k):\n",
    "        #loop through k folds\n",
    "        #take a split of the data for testing\n",
    "        X_test = pd.DataFrame(x_train_split[i],\n",
    "                              columns =xcols)\n",
    "        y_test = y_train_split[i]\n",
    "        #take the remaining 3/4 of the data for training\n",
    "        X_train = pd.DataFrame(np.concatenate(x_train_split[:i] +\n",
    "                                              x_train_split[i + 1:],\n",
    "                                              axis=0),\n",
    "                               columns =xcols)\n",
    "        y_train = np.concatenate(y_train_split[:i] +\n",
    "                                              y_train_split[i + 1:],\n",
    "                                              axis=0)\n",
    "        sets.append([X_train, X_test, y_train, y_test])\n",
    "    print('number of sets:', len(sets))\n",
    "    #try catching for remainder/uneven split. adding to last set as training example\n",
    "    #if extras != 0:\n",
    "    \n",
    "    #    np.append(sets[-1][0], x_train_extras, axis=0)\n",
    "    #    np.append(sets[-1][2], y_train_extras, axis=0)\n",
    "    ######################################################################################\n",
    "    #Grid search + KFOLD\n",
    "    ######################################################################################\n",
    "    train_acc = []\n",
    "    valid_acc = []\n",
    "    models = []\n",
    "    counter = 0\n",
    "    for i in params:\n",
    "        temp_test_acc = []\n",
    "        temp_train_acc = []\n",
    "        model = SVC(C=i['C'],\n",
    "                    kernel=i['kernel'],\n",
    "                    degree=i['degree'],\n",
    "                    gamma='auto')\n",
    "        models.append(model)\n",
    "        fold = 1\n",
    "        print(i)\n",
    "        for j in sets:\n",
    "            scaler = MinMaxScaler().fit((j[0])) #fit minmax scaler to trainset\n",
    "            clean_x_train = pd.DataFrame(scaler.transform(j[0]), columns = xcols)  #scale\n",
    "            \n",
    "            model.fit(clean_x_train, j[2])  #fit on cleaned/scaled train set\n",
    "            \n",
    "            clean_x_test = pd.DataFrame(scaler.transform(j[1]), columns = xcols)  #clean/scale test set\n",
    "            \n",
    "            train_preds = model.predict(clean_x_train)\n",
    "            test_preds = model.predict(clean_x_test)  #predict on clean/scaled test set\n",
    "            \n",
    "            train_accuracy = calc_accuracy(j[-2], train_preds)\n",
    "            test_accuracy = calc_accuracy(j[-1], test_preds)\n",
    "            \n",
    "            temp_train_acc.append(train_accuracy)\n",
    "            temp_test_acc.append(test_accuracy)\n",
    "\n",
    "            fold += 1\n",
    "            \n",
    "        train_acc.append(np.mean(temp_train_acc))  #get mean over all folds\n",
    "        valid_acc.append(np.mean(temp_test_acc))  #get mean over all folds\n",
    "        print('mean accuracy on train set across folds:', train_acc[counter])\n",
    "        print('mean accuracy on holdout set across folds:', valid_acc[counter])\n",
    "        fold = 1\n",
    "        counter += 1\n",
    "    df = pd.DataFrame(params)\n",
    "    df['cv_train_accuracy'] = train_acc\n",
    "    df['cv_test_accuracy'] = valid_acc\n",
    "    best_params = params[df['cv_test_accuracy'].idxmax()]\n",
    "    return df, df['cv_test_accuracy'].max(), models[df['cv_test_accuracy'].idxmax()], best_params"
   ]
  },
  {
   "cell_type": "code",
   "execution_count": 2,
   "metadata": {
    "ExecuteTime": {
     "end_time": "2019-10-28T16:17:37.822474Z",
     "start_time": "2019-10-28T16:17:37.813465Z"
    }
   },
   "outputs": [],
   "source": [
    "predictions_saved = False\n",
    "submission = False\n",
    "\n",
    "# 2. Select best hyperparameter with cross validation and train model.\n",
    "# Attention: Write your own hyper-parameter candidates.\n",
    "def train_and_select_model(training_csv):\n",
    "    # load data and preprocess from filename training_csv\n",
    "    if submission:\n",
    "        x,y, xcols = load_data(training_csv, encode_cat = True, outlier_removal = True, \n",
    "                               feature_engineering = True, down_sample= True)\n",
    "        print('Turned in Version is downsampled to include only 10k observations')\n",
    "\n",
    "    else:\n",
    "        x,y, xcols = load_data(training_csv, encode_cat = True, outlier_removal = True, \n",
    "                               feature_engineering = True, down_sample= True)\n",
    "    # hard code hyperparameter configurations, an example:\n",
    "    param_set = [\n",
    "                     #{'kernel': 'rbf', 'C': .1, 'degree': 1},\n",
    "                    #{'kernel': 'rbf', 'C': 1, 'degree': 1},\n",
    "                     #{'kernel': 'rbf', 'C': 10, 'degree': 1},\n",
    "                    {'kernel': 'rbf', 'C': 100, 'degree': 1},\n",
    "                    #{'kernel': 'rbf', 'C': 1000, 'degree': 1},\n",
    "                    #{'kernel': 'rbf', 'C': 5000, 'degree': 1},\n",
    "        #{'kernel': 'rbf', 'C': 50, 'degree': 1},\n",
    "        #{'kernel': 'rbf', 'C': .001, 'degree': 1},\n",
    "        #{'kernel': 'rbf', 'C': .0001, 'degree': 1},\n",
    "\n",
    "        ]\n",
    "\n",
    "    table, best_score, best_model, params = cross_validation(x, y, xcols, param_set, num_folds= 3)\n",
    "    model = SVC(C=params['C'],kernel=params['kernel'],degree=params['degree'], gamma='auto')\n",
    "    best_model = model.fit(x,y)\n",
    "    \n",
    "    # your code here\n",
    "    # iterate over all hyperparameter configurations\n",
    "    # perform 3 FOLD cross validation\n",
    "    # print cv scores for every hyperparameter and include in pdf report\n",
    "    # select best hyperparameter from cv scores, retrain model \n",
    "    return best_model, best_score, x, table\n",
    "\n",
    "# predict for data in filename test_csv using trained model\n",
    "def predict(test_csv, trained_model, x):\n",
    "    x_test, _ , xcols = load_data(test_csv, encode_cat = True, outlier_removal = False, feature_engineering = True)\n",
    "    x_test = pd.DataFrame(MinMaxScaler().fit_transform(x_test) , columns = xcols)\n",
    "    _,x_test = x.align(x_test, join='outer', axis=1, fill_value=0)\n",
    "    xcols = list(x.columns)\n",
    "    xtestcols = list(x_test.columns)\n",
    "    x_test.drop([x for x in xtestcols if x not in xcols], axis = 1, inplace = True)\n",
    "    predictions = trained_model.predict(x_test)\n",
    "    return predictions\n",
    "\n",
    "# save predictions on test data in desired format \n",
    "def output_results(predictions):\n",
    "    with open('predictions.txt', 'w') as f:\n",
    "        for pred in predictions:\n",
    "            if pred == 0:\n",
    "                f.write('<=50K\\n')\n",
    "            else:\n",
    "                f.write('>50K\\n')\n",
    "    print('filed saved')\n",
    "\n"
   ]
  },
  {
   "cell_type": "code",
   "execution_count": null,
   "metadata": {},
   "outputs": [],
   "source": [
    "\n",
    "# fill in train_and_select_model(training_csv) to \n",
    "# return a trained model with best hyperparameter from 3-FOLD \n",
    "# cross validation to select hyperparameters as well as cross validation score for best hyperparameter. \n",
    "# hardcode hyperparameter configurations as part of train_and_select_model(training_csv)\n",
    "trained_model, cv_score, x, _ = train_and_select_model(training_csv)\n",
    "print(_)\n",
    "print (\"The best model was scored %.2f\" % cv_score)\n",
    "# use trained SVC model to generate predictions\n",
    "# Don't archive the files or change the file names for the automated grading.\n",
    "# Do not shuffle the test dataset\n",
    "\n",
    "if submission:\n",
    "    print('Inference not done using this KFOLD run')\n",
    "    print('This is just a proof of concept to show that code can run - Trained on a subset of the initial data')\n",
    "    print('Stored prediction file contains inference when training models on full dataset')\n",
    "\n",
    "if not predictions_saved:\n",
    "    predictions = predict(testing_csv, trained_model, x)\n",
    "    output_results(predictions)\n",
    "# 3. Upload your Python code, the predictions.txt as well as a report to Collab."
   ]
  },
  {
   "cell_type": "code",
   "execution_count": 7,
   "metadata": {
    "ExecuteTime": {
     "end_time": "2019-10-28T16:14:08.170901Z",
     "start_time": "2019-10-28T16:14:08.165916Z"
    }
   },
   "outputs": [
    {
     "data": {
      "text/plain": [
       "Counter({0: 10000})"
      ]
     },
     "execution_count": 7,
     "metadata": {},
     "output_type": "execute_result"
    }
   ],
   "source": [
    "from collections import Counter\n",
    "Counter(predictions)"
   ]
  },
  {
   "cell_type": "code",
   "execution_count": 41,
   "metadata": {
    "ExecuteTime": {
     "end_time": "2019-10-16T02:36:39.671016Z",
     "start_time": "2019-10-16T02:36:39.538802Z"
    },
    "scrolled": true
   },
   "outputs": [
    {
     "data": {
      "image/png": "[encoded data removed]",
      "text/plain": [
       "<Figure size 432x288 with 1 Axes>"
      ]
     },
     "metadata": {
      "needs_background": "light"
     },
     "output_type": "display_data"
    }
   ],
   "source": [
    "sns.lineplot(x = df['C'], y = df['cv_train_accuracy'])\n",
    "sns.lineplot(x = df['C'], y = df['cv_test_accuracy'])\n",
    "plt.ylabel('cv_accuracy')\n",
    "plt.legend(['train_acc', 'test_acc'])\n",
    "plt.show()"
   ]
  },
  {
   "cell_type": "code",
   "execution_count": 39,
   "metadata": {
    "ExecuteTime": {
     "end_time": "2019-10-28T16:39:58.466898Z",
     "start_time": "2019-10-28T16:39:10.238936Z"
    }
   },
   "outputs": [
    {
     "name": "stdout",
     "output_type": "stream",
     "text": [
      "reading in data\n",
      "removing outliers\n",
      "Categorical one hot encoding\n"
     ]
    },
    {
     "name": "stderr",
     "output_type": "stream",
     "text": [
      "C:\\Users\\jdine\\AppData\\Roaming\\Python\\Python37\\site-packages\\sklearn\\svm\\base.py:193: FutureWarning: The default value of gamma will change from 'auto' to 'scale' in version 0.22 to account better for unscaled features. Set gamma explicitly to 'auto' or 'scale' to avoid this warning.\n",
      "  \"avoid this warning.\", FutureWarning)\n"
     ]
    },
    {
     "data": {
      "text/plain": [
       "SVC(C=100, cache_size=200, class_weight=None, coef0=0.0,\n",
       "    decision_function_shape='ovr', degree=3, gamma='auto_deprecated',\n",
       "    kernel='rbf', max_iter=-1, probability=False, random_state=None,\n",
       "    shrinking=True, tol=0.001, verbose=False)"
      ]
     },
     "execution_count": 39,
     "metadata": {},
     "output_type": "execute_result"
    }
   ],
   "source": [
    "training_csv = \"salary.labeled.csv\"\n",
    "testing_csv = \"salary.2Predict.csv\"\n",
    "x,y, xcols = load_data(training_csv, encode_cat = True, outlier_removal = True, \n",
    "                               feature_engineering = True, down_sample= False)\n",
    "x = pd.DataFrame(MinMaxScaler().fit_transform(x) , columns = x.columns)\n",
    "\n",
    "model = SVC(C = 100)\n",
    "model.fit(x,y)"
   ]
  },
  {
   "cell_type": "code",
   "execution_count": 40,
   "metadata": {
    "ExecuteTime": {
     "end_time": "2019-10-28T16:39:59.299670Z",
     "start_time": "2019-10-28T16:39:59.243819Z"
    }
   },
   "outputs": [
    {
     "name": "stdout",
     "output_type": "stream",
     "text": [
      "reading in data\n",
      "Categorical one hot encoding\n"
     ]
    }
   ],
   "source": [
    "x_test,y_test, xcols = load_data(testing_csv, encode_cat = True, outlier_removal = False, \n",
    "                               feature_engineering = True, down_sample= False)\n",
    "x_test = pd.DataFrame(MinMaxScaler().fit_transform(x_test) , columns = xcols)\n"
   ]
  },
  {
   "cell_type": "code",
   "execution_count": 41,
   "metadata": {
    "ExecuteTime": {
     "end_time": "2019-10-28T16:40:05.518031Z",
     "start_time": "2019-10-28T16:40:00.020740Z"
    }
   },
   "outputs": [
    {
     "name": "stdout",
     "output_type": "stream",
     "text": [
      "reading in data\n",
      "Categorical one hot encoding\n"
     ]
    }
   ],
   "source": [
    "predictions = predict(testing_csv, model, x)"
   ]
  },
  {
   "cell_type": "code",
   "execution_count": 42,
   "metadata": {
    "ExecuteTime": {
     "end_time": "2019-10-28T16:40:07.940161Z",
     "start_time": "2019-10-28T16:40:07.935194Z"
    }
   },
   "outputs": [
    {
     "data": {
      "text/plain": [
       "Counter({0: 9677, 1: 323})"
      ]
     },
     "execution_count": 42,
     "metadata": {},
     "output_type": "execute_result"
    }
   ],
   "source": [
    "from collections import Counter\n",
    "Counter(predictions)\n"
   ]
  },
  {
   "cell_type": "code",
   "execution_count": 48,
   "metadata": {
    "ExecuteTime": {
     "end_time": "2019-10-28T17:19:54.606086Z",
     "start_time": "2019-10-28T17:19:54.575145Z"
    }
   },
   "outputs": [
    {
     "data": {
      "text/plain": [
       "Counter({'<=50K': 7937, '>50K': 2063})"
      ]
     },
     "execution_count": 48,
     "metadata": {},
     "output_type": "execute_result"
    }
   ],
   "source": [
    "import numpy as np\n",
    "data = np.loadtxt('predictions1.txt', dtype = 'str')\n",
    "Counter(data)\n"
   ]
  }
 ],
 "metadata": {
  "kernelspec": {
   "display_name": "Python 3",
   "language": "python",
   "name": "python3"
  },
  "language_info": {
   "codemirror_mode": {
    "name": "ipython",
    "version": 3
   },
   "file_extension": ".py",
   "mimetype": "text/x-python",
   "name": "python",
   "nbconvert_exporter": "python",
   "pygments_lexer": "ipython3",
   "version": "3.7.0"
  },
  "varInspector": {
   "cols": {
    "lenName": 16,
    "lenType": 16,
    "lenVar": 40
   },
   "kernels_config": {
    "python": {
     "delete_cmd_postfix": "",
     "delete_cmd_prefix": "del ",
     "library": "var_list.py",
     "varRefreshCmd": "print(var_dic_list())"
    },
    "r": {
     "delete_cmd_postfix": ") ",
     "delete_cmd_prefix": "rm(",
     "library": "var_list.r",
     "varRefreshCmd": "cat(var_dic_list()) "
    }
   },
   "types_to_exclude": [
    "module",
    "function",
    "builtin_function_or_method",
    "instance",
    "_Feature"
   ],
   "window_display": false
  }
 },
 "nbformat": 4,
 "nbformat_minor": 2
}
